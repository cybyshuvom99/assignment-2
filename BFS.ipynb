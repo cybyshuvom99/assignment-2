{
 "cells": [
  {
   "cell_type": "markdown",
   "metadata": {},
   "source": [
    "## Breadth First Search(BFS)"
   ]
  },
  {
   "cell_type": "code",
   "execution_count": 19,
   "metadata": {},
   "outputs": [
    {
     "name": "stdout",
     "output_type": "stream",
     "text": [
      "[0, 1, 2, 3, 6, 4, 5]\n"
     ]
    }
   ],
   "source": [
    "vertexList = ['A', 'B', 'C', 'D', 'E', 'F', 'G']\n",
    "edgeList = [(0,1), (1,2), (1,3), (3,4), (4,5), (1,6)]\n",
    "graphs = (vertexList, edgeList)\n",
    "def bfs(graph, start):\n",
    "    vertexList, edgeList = graph\n",
    "    visitedList = []\n",
    "    queue = [start]\n",
    "    adjacencyList = [[] for vertex in vertexList]\n",
    "\n",
    "    # fill adjacencyList from graph\n",
    "    for edge in edgeList:\n",
    "        adjacencyList[edge[0]].append(edge[1])\n",
    "\n",
    "    # bfs\n",
    "    while queue:\n",
    "        current = queue.pop()\n",
    "        for neighbor in adjacencyList[current]:\n",
    "            if not neighbor in visitedList:\n",
    "                queue.insert(0,neighbor)\n",
    "        visitedList.append(current)\n",
    "    return visitedList\n",
    "\n",
    "print(bfs(graphs, 0))"
   ]
  },
  {
   "cell_type": "markdown",
   "metadata": {},
   "source": [
    "## Depth First Search(DFS)\n"
   ]
  },
  {
   "cell_type": "code",
   "execution_count": 20,
   "metadata": {},
   "outputs": [
    {
     "name": "stdout",
     "output_type": "stream",
     "text": [
      "[0, 2, 5, 4, 6, 1, 3]\n"
     ]
    }
   ],
   "source": [
    "vertexList = ['0', '1', '2', '3', '4', '5', '6']\n",
    "edgeList = [(0,1), (0,2), (1,0) , (1,3) , (2,0) , (2,4) , (2,5) , (3,1), (4,2) , (4,6), (5,2), (6,4)]\n",
    "graphs = (vertexList, edgeList)\n",
    "\n",
    "def dfs(graph, start):\n",
    "    vertexList, edgeList = graph\n",
    "    visitedVertex = []\n",
    "    stack = [start]\n",
    "    adjacencyList = [[] for vertex in vertexList]\n",
    "\n",
    "    for edge in edgeList:\n",
    "        adjacencyList[edge[0]].append(edge[1])\n",
    "\n",
    "    while stack:\n",
    "        current = stack.pop()\n",
    "        for neighbor in adjacencyList[current]:\n",
    "            if not neighbor in visitedVertex:\n",
    "                stack.append(neighbor)\n",
    "        visitedVertex.append(current)\n",
    "    return visitedVertex\n",
    "\n",
    "print(dfs(graphs, 0))\n"
   ]
  },
  {
   "cell_type": "code",
   "execution_count": 2,
   "metadata": {},
   "outputs": [
    {
     "name": "stdout",
     "output_type": "stream",
     "text": [
      "(9, 6)\n"
     ]
    }
   ],
   "source": [
    "from heapq import heappush, heappop, heapify\n",
    "\n",
    "def UCS(graph,start,goal):\n",
    "  explored=[]\n",
    "  pq=[]\n",
    "  heapify(pq)\n",
    "  heappush(pq, (0, start))\n",
    "  while len(pq)>0:\n",
    "    current=heappop(pq)\n",
    "    if current[1]==goal:\n",
    "      return current\n",
    "    else:\n",
    "      explored.append(current[1])\n",
    "      for edge in graph[current[1]-1]:\n",
    "        if not edge[0] in explored:\n",
    "          heappush(pq,(edge[1]+current[0],edge[0]))\n",
    "\n",
    "graph=[[[1,0],[2,1],[3,2]],[[2,0],[1,1],[4,2]],[[3,0],[1,2],[5,6],[6,7]],[[4,0],[2,2],[5,4]],[[5,0],[4,4],[6,3]],[[6,0],[3,7],[5,3]]]\n",
    "print(UCS(graph,1,6))\n"
   ]
  },
  {
   "cell_type": "code",
   "execution_count": 2,
   "metadata": {},
   "outputs": [],
   "source": []
  },
  {
   "cell_type": "code",
   "execution_count": null,
   "metadata": {},
   "outputs": [],
   "source": []
  },
  {
   "cell_type": "code",
   "execution_count": null,
   "metadata": {},
   "outputs": [],
   "source": []
  }
 ],
 "metadata": {
  "kernelspec": {
   "display_name": "Python 3",
   "language": "python",
   "name": "python3"
  },
  "language_info": {
   "codemirror_mode": {
    "name": "ipython",
    "version": 3
   },
   "file_extension": ".py",
   "mimetype": "text/x-python",
   "name": "python",
   "nbconvert_exporter": "python",
   "pygments_lexer": "ipython3",
   "version": "3.7.3"
  }
 },
 "nbformat": 4,
 "nbformat_minor": 2
}
